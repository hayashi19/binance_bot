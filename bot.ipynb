{
 "cells": [
  {
   "cell_type": "code",
   "execution_count": null,
   "id": "1ee55131",
   "metadata": {},
   "outputs": [],
   "source": [
    "import websocket\n",
    "\n",
    "binance_socket = \"wss://stream.binance.com:9443/ws/btcusdt@kline_1m\"\n",
    "huobi_socket = \"wss://api.huobi.pro/ws\"\n",
    "gateio_socket = \"wss://ws.gateio.io/v3/\"\n",
    "\n",
    "def on_open(ws):\n",
    "    print('Opened Connection')\n",
    "\n",
    "def on_close(ws):\n",
    "    print('Closed Connection')\n",
    "\n",
    "def on_message(ws, message):\n",
    "    print(message)\n",
    "\n",
    "ws = websocket.WebSocketApp(huobi_socket, on_open= on_open, on_close= on_close, on_message= on_message)\n",
    "ws.run_forever()"
   ]
  },
  {
   "cell_type": "code",
   "execution_count": null,
   "id": "aa9b37cc",
   "metadata": {},
   "outputs": [],
   "source": []
  }
 ],
 "metadata": {
  "kernelspec": {
   "display_name": "Python 3",
   "language": "python",
   "name": "python3"
  },
  "language_info": {
   "codemirror_mode": {
    "name": "ipython",
    "version": 3
   },
   "file_extension": ".py",
   "mimetype": "text/x-python",
   "name": "python",
   "nbconvert_exporter": "python",
   "pygments_lexer": "ipython3",
   "version": "3.8.8"
  }
 },
 "nbformat": 4,
 "nbformat_minor": 5
}
